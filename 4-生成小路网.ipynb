{
 "cells": [
  {
   "cell_type": "code",
   "execution_count": 1,
   "metadata": {},
   "outputs": [],
   "source": [
    "import networkx as nx\n",
    "import matplotlib.pyplot as plt\n",
    "import pandas as pd\n",
    "import numpy as np\n",
    "import geopandas as gpd\n",
    "import transbigdata as tbd\n",
    "import warnings\n",
    "warnings.filterwarnings('ignore')"
   ]
  },
  {
   "cell_type": "code",
   "execution_count": 2,
   "metadata": {},
   "outputs": [],
   "source": [
    "filepath = '小拓扑网络2/'"
   ]
  },
  {
   "cell_type": "code",
   "execution_count": 3,
   "metadata": {},
   "outputs": [
    {
     "data": {
      "text/html": [
       "<div>\n",
       "<style scoped>\n",
       "    .dataframe tbody tr th:only-of-type {\n",
       "        vertical-align: middle;\n",
       "    }\n",
       "\n",
       "    .dataframe tbody tr th {\n",
       "        vertical-align: top;\n",
       "    }\n",
       "\n",
       "    .dataframe thead th {\n",
       "        text-align: right;\n",
       "    }\n",
       "</style>\n",
       "<table border=\"1\" class=\"dataframe\">\n",
       "  <thead>\n",
       "    <tr style=\"text-align: right;\">\n",
       "      <th></th>\n",
       "      <th>geometry</th>\n",
       "      <th>edge_id</th>\n",
       "    </tr>\n",
       "  </thead>\n",
       "  <tbody>\n",
       "    <tr>\n",
       "      <th>0</th>\n",
       "      <td>LINESTRING (110.14661 20.26271, 110.14665 20.2...</td>\n",
       "      <td>0</td>\n",
       "    </tr>\n",
       "    <tr>\n",
       "      <th>1</th>\n",
       "      <td>LINESTRING (110.13244 20.33307, 110.13250 20.3...</td>\n",
       "      <td>1</td>\n",
       "    </tr>\n",
       "    <tr>\n",
       "      <th>2</th>\n",
       "      <td>LINESTRING (110.13250 20.33423, 110.13328 20.3...</td>\n",
       "      <td>2</td>\n",
       "    </tr>\n",
       "    <tr>\n",
       "      <th>3</th>\n",
       "      <td>LINESTRING (110.13431 20.33518, 110.13328 20.3...</td>\n",
       "      <td>3</td>\n",
       "    </tr>\n",
       "    <tr>\n",
       "      <th>4</th>\n",
       "      <td>LINESTRING (110.13431 20.33518, 110.13541 20.3...</td>\n",
       "      <td>4</td>\n",
       "    </tr>\n",
       "    <tr>\n",
       "      <th>...</th>\n",
       "      <td>...</td>\n",
       "      <td>...</td>\n",
       "    </tr>\n",
       "    <tr>\n",
       "      <th>24370</th>\n",
       "      <td>LINESTRING (112.97290 25.29675, 112.97222 25.2...</td>\n",
       "      <td>48745</td>\n",
       "    </tr>\n",
       "    <tr>\n",
       "      <th>24371</th>\n",
       "      <td>LINESTRING (112.97290 25.29675, 112.97197 25.2...</td>\n",
       "      <td>48746</td>\n",
       "    </tr>\n",
       "    <tr>\n",
       "      <th>24372</th>\n",
       "      <td>LINESTRING (112.97222 25.29837, 112.97127 25.2...</td>\n",
       "      <td>48747</td>\n",
       "    </tr>\n",
       "    <tr>\n",
       "      <th>24373</th>\n",
       "      <td>LINESTRING (112.97127 25.29949, 112.97096 25.3...</td>\n",
       "      <td>48748</td>\n",
       "    </tr>\n",
       "    <tr>\n",
       "      <th>24374</th>\n",
       "      <td>LINESTRING (114.36436 25.29614, 114.36342 25.2...</td>\n",
       "      <td>48749</td>\n",
       "    </tr>\n",
       "  </tbody>\n",
       "</table>\n",
       "<p>48750 rows × 2 columns</p>\n",
       "</div>"
      ],
      "text/plain": [
       "                                                geometry  edge_id\n",
       "0      LINESTRING (110.14661 20.26271, 110.14665 20.2...        0\n",
       "1      LINESTRING (110.13244 20.33307, 110.13250 20.3...        1\n",
       "2      LINESTRING (110.13250 20.33423, 110.13328 20.3...        2\n",
       "3      LINESTRING (110.13431 20.33518, 110.13328 20.3...        3\n",
       "4      LINESTRING (110.13431 20.33518, 110.13541 20.3...        4\n",
       "...                                                  ...      ...\n",
       "24370  LINESTRING (112.97290 25.29675, 112.97222 25.2...    48745\n",
       "24371  LINESTRING (112.97290 25.29675, 112.97197 25.2...    48746\n",
       "24372  LINESTRING (112.97222 25.29837, 112.97127 25.2...    48747\n",
       "24373  LINESTRING (112.97127 25.29949, 112.97096 25.3...    48748\n",
       "24374  LINESTRING (114.36436 25.29614, 114.36342 25.2...    48749\n",
       "\n",
       "[48750 rows x 2 columns]"
      ]
     },
     "execution_count": 3,
     "metadata": {},
     "output_type": "execute_result"
    }
   ],
   "source": [
    "\n",
    "\n",
    "data = gpd.read_file('高速公路/gis/简化高速/广东省高速公路网_补充后_简化.json')\n",
    "#提取简化高速公路边信息\n",
    "edge = data[['geometry']]\n",
    "edge ['edge_id'] = range (len (edge))\n",
    "#生成反向边信息\n",
    "edge_inverse = edge.copy ()\n",
    "from shapely.geometry import LineString\n",
    "edge_inverse['geometry'] = edge_inverse['geometry'].apply(lambda x:LineString(list(x.coords)[::-1]))\n",
    "edge_inverse['edge_id'] +=len (edge)\n",
    "#合并正反向边信息\n",
    "edge = pd. concat([edge, edge_inverse])\n",
    "edge"
   ]
  },
  {
   "cell_type": "code",
   "execution_count": 4,
   "metadata": {},
   "outputs": [],
   "source": [
    "gdtollnode = pd.read_csv('高速公路/gis/收费站服务区/收费站_all_wgs84.csv')\n",
    "gdtollnode['name'] = gdtollnode['name'].apply(lambda r:r.split('(')[0])\n",
    "gdtollnode.drop_duplicates('name',inplace=True)\n",
    "gdtollnode = gpd.GeoDataFrame(gdtollnode, geometry=gpd.points_from_xy(gdtollnode['lon'], gdtollnode['lat']))\n",
    "len(gdtollnode)\n",
    "\n",
    "highway_station = pd.read_csv('高速公路/gis/收费站服务区/服务区_all_wgs84.csv')\n",
    "highway_station['operId'] = range(len(highway_station))\n",
    "highway_station = gpd.GeoDataFrame(highway_station, geometry=gpd.points_from_xy(highway_station['lon'], highway_station['lat']))\n",
    "highway_station = highway_station[['lon','lat','geometry','operId']]\n",
    "highway_station.columns = ['stationLon','stationLat','geometry','operId']\n",
    "highway_station['freeNums'] = 10\n",
    "\n",
    "#highway_station = gpd.read_file('高速公路/充电站.json')\n",
    "#highway_station = highway_station[['stationLon','stationLat','freeNums','geometry','operId']]\n",
    "highway_station = gpd.GeoDataFrame(highway_station)\n",
    "''' highway_station = tbd.ckdnearest_line(highway_station,data)\n",
    "highway_station = highway_station[highway_station['dist']<1000/111000] '''\n",
    "highway_station = highway_station[['stationLon','stationLat','operId','freeNums']]\n",
    "highway_station =  gpd.GeoDataFrame(highway_station)\n",
    "highway_station['geometry']  = gpd.points_from_xy(highway_station['stationLon'],highway_station['stationLat'])\n",
    "highway_station.columns = ['lon','lat','场站名称','充电车位数','geometry']\n",
    "highway_station['充电车位数'] = np.maximum(highway_station['充电车位数'],4)\n",
    "highway_station[['lon','lat','场站名称','充电车位数']]#.to_csv(r'newdata/chargestation_guangdong.csv',index = None)\n",
    "\n",
    "#gdtollnode = pd.read_csv('高速公路/广东省高速公路网_收费站.csv')\n",
    "gdtollnode['id'] = range(len(gdtollnode))\n",
    "gdtollnode.to_file(r'高速公路/gis/收费站服务区/收费站_all_wgs84_去重.geojson', driver='GeoJSON')\n",
    "gdtollnode = gdtollnode[['lon','lat','id']]\n",
    "\n",
    "#highway_station = pd.read_csv('高速公路/广东省高速公路网_服务区.csv')\n",
    "highway_station['id'] = range(len(highway_station))\n",
    "highway_station['id'] += len(gdtollnode)\n",
    "\n",
    "station = pd.concat([gdtollnode, highway_station])\n",
    "station = gpd. GeoDataFrame (station).reset_index(drop=True)\n",
    "station ['geometry'] = gpd.points_from_xy(station['lon'],station['lat'])\n"
   ]
  },
  {
   "cell_type": "code",
   "execution_count": 5,
   "metadata": {},
   "outputs": [],
   "source": [
    "\n",
    "\n",
    "\n",
    "\n",
    "def get_matched_edge(edge,station):\n",
    "\n",
    "    # 投影、偏移、匹配至最近的边\n",
    "    dist = 50\n",
    "    # 偏移100米的边\n",
    "    edge_offset = edge.copy()\n",
    "    edge_offset.crs = 'EPSG:4326'\n",
    "    edge_offset_proj = edge_offset.to_crs('EPSG:4525') #CGCS2000 / 3-degree Gauss Kruger zone 37\n",
    "    edge_offset_proj['geometry'] = edge_offset_proj['geometry'].apply(lambda x:x.parallel_offset(dist))\n",
    "    edge_offset_proj = edge_offset_proj.reset_index(drop=True)\n",
    "    edge_offset_proj = edge_offset_proj[-edge_offset_proj['geometry'].is_empty]\n",
    "\n",
    "    station.crs = 'EPSG:4326'\n",
    "    station_proj = station.to_crs('EPSG:4525')\n",
    "    station_proj_match = tbd.ckdnearest_line(station_proj,edge_offset_proj[-edge_offset_proj['geometry'].is_empty][['edge_id','geometry']])\n",
    "\n",
    "    # 对于只匹配到一个点的边\n",
    "    matched_table_1 = station_proj_match.drop_duplicates(subset=['edge_id'],keep='first')[['edge_id','id']]\n",
    "    matched_table_2 = station_proj_match[-station_proj_match['id'].isin(matched_table_1['id'])]\n",
    "\n",
    "    # 基于额外节点调整网络\n",
    "    for i in range(len(matched_table_1)):\n",
    "        r = matched_table_1.iloc[i]\n",
    "        nodeid = r['id']\n",
    "        edgeid = r['edge_id']\n",
    "        nodegeometry = station[station['id']==nodeid]['geometry'].iloc[0]\n",
    "        edgegeometry = edge[edge['edge_id']==edgeid]['geometry'].iloc[0]\n",
    "        #找到edge上距离node最近的点\n",
    "        projectdist = edgegeometry.project(nodegeometry)\n",
    "        projectpoint = edgegeometry.interpolate(projectdist)\n",
    "        #如果在两端，则不需要切分\n",
    "        #增加端点到节点的线段\n",
    "        add_edges = []\n",
    "        if (projectdist==edgegeometry.length)|(projectdist==0):\n",
    "            line3 = LineString([nodegeometry,projectpoint])\n",
    "            line4 = LineString([projectpoint,nodegeometry])\n",
    "            add_edges.append(line3)\n",
    "            add_edges.append(line4)\n",
    "        else: #如果在中间，则需要切分，将原始边切分为两段，再加上端点到节点的线段\n",
    "            from shapely.geometry import Point\n",
    "            edge_coords = pd.DataFrame(edgegeometry.coords)\n",
    "            edge_coords['proj'] = edge_coords.apply(lambda r:edgegeometry.project(Point([r[0],r[1]])),axis = 1)\n",
    "            # 由中间端点切分边为两段\n",
    "            line1 = LineString(edge_coords[edge_coords['proj']<projectdist][[0,1]].apply(lambda r:Point([r[0],r[1]]),axis = 1).tolist()+[projectpoint])\n",
    "            line2 = LineString([projectpoint] + edge_coords[edge_coords['proj']>projectdist][[0,1]].apply(lambda r:Point([r[0],r[1]]),axis = 1).tolist())\n",
    "            # 添加中间端点到收费站的线段\n",
    "            line3 = LineString([nodegeometry,projectpoint])\n",
    "            line4 = LineString([projectpoint,nodegeometry])\n",
    "            add_edges.append(line1)\n",
    "            add_edges.append(line2)\n",
    "            add_edges.append(line3)\n",
    "            add_edges.append(line4)\n",
    "            # 此时需要删除原有的边\n",
    "            edge = edge[edge['edge_id']!=edgeid]\n",
    "        # 将新的边加入\n",
    "        add_edges = gpd.GeoDataFrame(geometry=add_edges)\n",
    "        edge = pd.concat([edge,add_edges])\n",
    "    edge = edge[edge.length>0]\n",
    "    edge['edge_id'] = range(len(edge))\n",
    "    return edge,matched_table_2\n",
    "\n",
    "edge,matched_table_2 = get_matched_edge(edge,station)\n",
    "while len(matched_table_2)>0:\n",
    "    edge,matched_table_2 = get_matched_edge(edge,station[station['id'].isin(matched_table_2['id'])])\n",
    "\n",
    "# 构建节点表\n",
    "edge['slon'] = edge['geometry'].apply(lambda r:r.coords[0][0])\n",
    "edge['slat'] = edge['geometry'].apply(lambda r:r.coords[0][1])\n",
    "edge['elon'] = edge['geometry'].apply(lambda r:r.coords[-1][0])\n",
    "edge['elat'] = edge['geometry'].apply(lambda r:r.coords[-1][1])\n"
   ]
  },
  {
   "cell_type": "code",
   "execution_count": 6,
   "metadata": {},
   "outputs": [],
   "source": [
    "\n",
    "# 提取简化高速公路节点信息\n",
    "node = pd.concat([edge[['slon','slat']].rename(columns = {'slon':'lon','slat':'lat'}),\n",
    "                  edge[['elon','elat']].rename(columns = {'elon':'lon','elat':'lat'})]).drop_duplicates()\n",
    "node['geometry'] = gpd.points_from_xy(node['lon'],node['lat'])\n",
    "node['id'] = range(len(node)) \n",
    "\n",
    "# 生成收费站节点对应网络节点的编号\n",
    "station2node = tbd.ckdnearest_point(station,node)[['id_x','id_y']].rename(columns = {'id_x':'station_id','id_y':'node_id'})\n",
    "\n",
    "# 为边添加起终点接节点信息\n",
    "## 添加起点信息\n",
    "node_tmp = node[['lon','lat','id']]\n",
    "node_tmp.columns = ['slon','slat','u']\n",
    "edge = pd.merge(edge,node_tmp,on = ['slon','slat'],how = 'left')\n",
    "## 添加终点信息\n",
    "node_tmp = node[['lon','lat','id']]\n",
    "node_tmp.columns = ['elon','elat','v']\n",
    "edge = pd.merge(edge,node_tmp,on = ['elon','elat'],how = 'left')\n",
    "\n",
    "edge = gpd.GeoDataFrame(edge,geometry = 'geometry')\n",
    "\n",
    "edge.crs = 'EPSG:4326'\n",
    "edge['length'] = edge.to_crs('EPSG:4525').length\n",
    "edge = edge[edge['length']>0]"
   ]
  },
  {
   "cell_type": "code",
   "execution_count": 7,
   "metadata": {},
   "outputs": [],
   "source": [
    "\n",
    "# 高速公路边向右平移一定距离形成面\n",
    "def generate_plane(edge,dist = 100):\n",
    "    '''\n",
    "    高速公路边向右平移一定距离形成面\n",
    "\n",
    "    '''\n",
    "    ## 转换为投影坐标系\n",
    "    edge.crs = 'EPSG:4326'\n",
    "    edge['length'] = edge.to_crs('EPSG:4525').length\n",
    "\n",
    "    edge = edge[edge['length']>50]\n",
    "    edge_plane = edge.to_crs('EPSG:4525') #CGCS2000 / 3-degree Gauss Kruger zone 37\n",
    "    edge['length'] = edge_plane['geometry'].length\n",
    "\n",
    "    ## 生成单方向偏移\n",
    "    from shapely.geometry import Polygon\n",
    "    edge_plane['geometry'] = edge_plane['geometry'].apply(lambda x:Polygon(list(x.coords)+list(x.parallel_offset(dist).coords)))\n",
    "    edge_plane = edge_plane.to_crs('EPSG:4326')\n",
    "    return edge_plane\n",
    "\n",
    "edge_plane = generate_plane(edge,dist = 100)"
   ]
  },
  {
   "cell_type": "code",
   "execution_count": 8,
   "metadata": {},
   "outputs": [],
   "source": [
    "\n",
    "#存储边、面与节点信息\n",
    "edge.to_file(filepath+r'广东省高速公路_简化_边.json',driver = 'GeoJSON')\n",
    "edge_plane.to_file(filepath+r'广东省高速公路_简化_面.json',driver = 'GeoJSON')\n",
    "node = gpd.GeoDataFrame(node)\n",
    "node.to_file(filepath+r'广东省高速公路_简化_节点.json',driver = 'GeoJSON')\n",
    "station2node.to_csv(filepath+r'收费站节点对应网络节点的编号.csv',index = None)"
   ]
  },
  {
   "cell_type": "code",
   "execution_count": 12,
   "metadata": {},
   "outputs": [
    {
     "data": {
      "text/plain": [
       "<AxesSubplot:>"
      ]
     },
     "execution_count": 12,
     "metadata": {},
     "output_type": "execute_result"
    },
    {
     "data": {
      "image/png": "[encoded data removed]",
      "text/plain": [
       "<Figure size 432x288 with 1 Axes>"
      ]
     },
     "metadata": {
      "needs_background": "light"
     },
     "output_type": "display_data"
    }
   ],
   "source": [
    "edge.plot()"
   ]
  },
  {
   "cell_type": "code",
   "execution_count": 9,
   "metadata": {},
   "outputs": [
    {
     "data": {
      "text/plain": [
       "1450"
      ]
     },
     "execution_count": 9,
     "metadata": {},
     "output_type": "execute_result"
    }
   ],
   "source": [
    "len(station2node)"
   ]
  },
  {
   "cell_type": "code",
   "execution_count": 10,
   "metadata": {},
   "outputs": [],
   "source": [
    "#存储边、面与节点信息\n",
    "edge = gpd.read_file(filepath+r'广东省高速公路_简化_边.json')\n",
    "node = gpd.read_file(filepath+r'广东省高速公路_简化_节点.json')\n",
    "station2node = pd.read_csv(filepath+r'收费站节点对应网络节点的编号.csv')\n",
    "# 将station2node转换为字典\n",
    "station2node_dict = station2node.set_index('station_id')['node_id'].to_dict()\n"
   ]
  },
  {
   "cell_type": "code",
   "execution_count": 13,
   "metadata": {},
   "outputs": [
    {
     "name": "stdout",
     "output_type": "stream",
     "text": [
      "INFO: Pandarallel will run on 10 workers.\n",
      "INFO: Pandarallel will use standard multiprocessing data transfer (pipe) to transfer data between the main process and workers.\n"
     ]
    },
    {
     "data": {
      "application/vnd.jupyter.widget-view+json": {
       "model_id": "c8f197f5501640378a56cd648c809b45",
       "version_major": 2,
       "version_minor": 0
      },
      "text/plain": [
       "VBox(children=(HBox(children=(IntProgress(value=0, description='0.00%', max=108890), Label(value='0 / 108890')…"
      ]
     },
     "metadata": {},
     "output_type": "display_data"
    }
   ],
   "source": [
    "G_edges = edge[['u','v','length']].values\n",
    "G_nodes = list(node['id'])\n",
    "\n",
    "import networkx as nx\n",
    "#先创建一个有向图\n",
    "G = nx.DiGraph()\n",
    "#添加节点\n",
    "G.add_nodes_from(G_nodes) \n",
    "#添加边\n",
    "G.add_weighted_edges_from(G_edges)\n",
    "\n",
    "## OD表构建\n",
    "o = gdtollnode[['id']].copy()\n",
    "o.columns = ['station_id']\n",
    "#o = station2node[['station_id']]\n",
    "o['flag'] = 1\n",
    "d = o.copy()\n",
    "od = pd.merge(o,d,on = 'flag')[['station_id_x','station_id_y']]\n",
    "od = od[od['station_id_x']!=od['station_id_y']]\n",
    "\n",
    "# 获取出行路径\n",
    "def getshortestpath(r):\n",
    "    # 获取出行路径\n",
    "    start_node = station2node_dict[r['station_id_x']]\n",
    "    end_node = station2node_dict[r['station_id_y']]\n",
    "    shortest_path = nx.shortest_path(G, source=start_node, target=end_node)\n",
    "    return list(map(int,shortest_path))# 转为整型\n",
    "\n",
    "from pandarallel import pandarallel\n",
    "pandarallel.initialize(progress_bar=True)\n",
    "\n",
    "# 获取OD的出行路径\n",
    "od['path'] = od.parallel_apply(lambda r:getshortestpath(r),axis = 1)\n",
    "# 对OD编号\n",
    "od['odid'] = range(len(od))\n",
    "od.to_csv(filepath+r'OD路径表.csv',index = None)"
   ]
  },
  {
   "cell_type": "code",
   "execution_count": null,
   "metadata": {},
   "outputs": [
    {
     "name": "stdout",
     "output_type": "stream",
     "text": [
      "INFO: Pandarallel will run on 10 workers.\n",
      "INFO: Pandarallel will use standard multiprocessing data transfer (pipe) to transfer data between the main process and workers.\n"
     ]
    },
    {
     "data": {
      "application/vnd.jupyter.widget-view+json": {
       "model_id": "462a29a0c78c4f72b5d4522fb2790fe6",
       "version_major": 2,
       "version_minor": 0
      },
      "text/plain": [
       "VBox(children=(HBox(children=(IntProgress(value=0, description='0.00%', max=108890), Label(value='0 / 108890')…"
      ]
     },
     "metadata": {},
     "output_type": "display_data"
    },
    {
     "ename": "NameError",
     "evalue": "name 'edge' is not defined",
     "output_type": "error",
     "traceback": [
      "\u001b[0;31m---------------------------------------------------------------------------\u001b[0m",
      "\u001b[0;31mNameError\u001b[0m                                 Traceback (most recent call last)",
      "\u001b[1;32m/Users/yuqing/Desktop/华为-电动汽车/4-生成小路网.ipynb 单元格 18\u001b[0m line \u001b[0;36m<cell line: 29>\u001b[0;34m()\u001b[0m\n\u001b[1;32m     <a href='vscode-notebook-cell:/Users/yuqing/Desktop/%E5%8D%8E%E4%B8%BA-%E7%94%B5%E5%8A%A8%E6%B1%BD%E8%BD%A6/4-%E7%94%9F%E6%88%90%E5%B0%8F%E8%B7%AF%E7%BD%91.ipynb#X23sZmlsZQ%3D%3D?line=26'>27</a>\u001b[0m     \u001b[39mreturn\u001b[39;00m path\n\u001b[1;32m     <a href='vscode-notebook-cell:/Users/yuqing/Desktop/%E5%8D%8E%E4%B8%BA-%E7%94%B5%E5%8A%A8%E6%B1%BD%E8%BD%A6/4-%E7%94%9F%E6%88%90%E5%B0%8F%E8%B7%AF%E7%BD%91.ipynb#X23sZmlsZQ%3D%3D?line=27'>28</a>\u001b[0m od1_tmp \u001b[39m=\u001b[39m od\u001b[39m.\u001b[39mgroupby(\u001b[39m'\u001b[39m\u001b[39modid\u001b[39m\u001b[39m'\u001b[39m)\u001b[39m.\u001b[39mparallel_apply(\u001b[39mlambda\u001b[39;00m r:get_path_dis_table_1(r\u001b[39m.\u001b[39miloc[\u001b[39m0\u001b[39m]))\u001b[39m.\u001b[39mreset_index()[[\u001b[39m'\u001b[39m\u001b[39mstation_id_x\u001b[39m\u001b[39m'\u001b[39m,\u001b[39m'\u001b[39m\u001b[39mstation_id_y\u001b[39m\u001b[39m'\u001b[39m,\u001b[39m'\u001b[39m\u001b[39mu\u001b[39m\u001b[39m'\u001b[39m,\u001b[39m'\u001b[39m\u001b[39mv\u001b[39m\u001b[39m'\u001b[39m,\u001b[39m'\u001b[39m\u001b[39mid\u001b[39m\u001b[39m'\u001b[39m]]\n\u001b[0;32m---> <a href='vscode-notebook-cell:/Users/yuqing/Desktop/%E5%8D%8E%E4%B8%BA-%E7%94%B5%E5%8A%A8%E6%B1%BD%E8%BD%A6/4-%E7%94%9F%E6%88%90%E5%B0%8F%E8%B7%AF%E7%BD%91.ipynb#X23sZmlsZQ%3D%3D?line=28'>29</a>\u001b[0m od1_tmp \u001b[39m=\u001b[39m pd\u001b[39m.\u001b[39mmerge(od1_tmp,edge)[[\u001b[39m'\u001b[39m\u001b[39mstation_id_x\u001b[39m\u001b[39m'\u001b[39m,\u001b[39m'\u001b[39m\u001b[39mstation_id_y\u001b[39m\u001b[39m'\u001b[39m,\u001b[39m'\u001b[39m\u001b[39medge_id\u001b[39m\u001b[39m'\u001b[39m,\u001b[39m'\u001b[39m\u001b[39mlength\u001b[39m\u001b[39m'\u001b[39m,\u001b[39m'\u001b[39m\u001b[39mid\u001b[39m\u001b[39m'\u001b[39m]]\n\u001b[1;32m     <a href='vscode-notebook-cell:/Users/yuqing/Desktop/%E5%8D%8E%E4%B8%BA-%E7%94%B5%E5%8A%A8%E6%B1%BD%E8%BD%A6/4-%E7%94%9F%E6%88%90%E5%B0%8F%E8%B7%AF%E7%BD%91.ipynb#X23sZmlsZQ%3D%3D?line=30'>31</a>\u001b[0m od1_tmp \u001b[39m=\u001b[39m od1_tmp\u001b[39m.\u001b[39msort_values(by \u001b[39m=\u001b[39m [\u001b[39m'\u001b[39m\u001b[39mstation_id_x\u001b[39m\u001b[39m'\u001b[39m,\u001b[39m'\u001b[39m\u001b[39mstation_id_y\u001b[39m\u001b[39m'\u001b[39m,\u001b[39m'\u001b[39m\u001b[39mid\u001b[39m\u001b[39m'\u001b[39m])\n\u001b[1;32m     <a href='vscode-notebook-cell:/Users/yuqing/Desktop/%E5%8D%8E%E4%B8%BA-%E7%94%B5%E5%8A%A8%E6%B1%BD%E8%BD%A6/4-%E7%94%9F%E6%88%90%E5%B0%8F%E8%B7%AF%E7%BD%91.ipynb#X23sZmlsZQ%3D%3D?line=31'>32</a>\u001b[0m od1_tmp[\u001b[39m'\u001b[39m\u001b[39mcumsumlength\u001b[39m\u001b[39m'\u001b[39m] \u001b[39m=\u001b[39m od1_tmp\u001b[39m.\u001b[39mgroupby([\u001b[39m'\u001b[39m\u001b[39mstation_id_x\u001b[39m\u001b[39m'\u001b[39m,\u001b[39m'\u001b[39m\u001b[39mstation_id_y\u001b[39m\u001b[39m'\u001b[39m])[\u001b[39m'\u001b[39m\u001b[39mlength\u001b[39m\u001b[39m'\u001b[39m]\u001b[39m.\u001b[39mcumsum()\n",
      "\u001b[0;31mNameError\u001b[0m: name 'edge' is not defined"
     ]
    }
   ],
   "source": [
    "od = pd.read_csv(filepath+r'OD路径表.csv')\n",
    "from pandarallel import pandarallel\n",
    "pandarallel.initialize(progress_bar=True)\n",
    "\n",
    "def get_path_gdf_1(shortest_path):\n",
    "    '''\n",
    "    从点序列中获取出行路段\n",
    "    '''\n",
    "    path = pd.DataFrame(shortest_path,columns=['u'])\n",
    "    path['u'] = path['u'].astype(int)\n",
    "    path['v'] = path['u'].shift(-1).fillna(0).astype(int)\n",
    "    path = path.iloc[:-1]\n",
    "    path = gpd.GeoDataFrame(path)\n",
    "    path['id'] = range(len(path))\n",
    "    return path\n",
    "#path = get_path_gdf(shortest_path,edge)\n",
    "import ast\n",
    "def get_path_dis_table_1(r):\n",
    "    '''\n",
    "    获取OD所经过的路段信息\n",
    "    '''\n",
    "    shortest_path = ast.literal_eval(r['path'])\n",
    "    path = get_path_gdf_1(shortest_path)\n",
    "    path = path[['u','v','id']]\n",
    "    path['station_id_x'] = r['station_id_x']\n",
    "    path['station_id_y'] = r['station_id_y']\n",
    "    return path\n",
    "od1_tmp = od.groupby('odid').parallel_apply(lambda r:get_path_dis_table_1(r.iloc[0])).reset_index()[['station_id_x','station_id_y','u','v','id']]\n",
    "od1_tmp = pd.merge(od1_tmp,edge)[['station_id_x','station_id_y','edge_id','length','id']]\n",
    "\n",
    "od1_tmp = od1_tmp.sort_values(by = ['station_id_x','station_id_y','id'])\n",
    "od1_tmp['cumsumlength'] = od1_tmp.groupby(['station_id_x','station_id_y'])['length'].cumsum()\n",
    "od_dis_table = od1_tmp[['station_id_x','station_id_y','edge_id','cumsumlength']]\n",
    "\n",
    "# od_dis_table存储了每个OD对应的路段信息\n",
    "# 其中，station_id_x、station_id_y为OD的起点、终点\n",
    "# edge_id为经过路段的id，cumsumlength为经过路段的累计长度\n",
    "# 例如，station_id_x=0，station_id_y=1，edge_id=47784，cumsumlength=68.596574，表示OD为0-1的出行路径，需要经过id为47784的路段，路径走完这一路段时，所经过的长度为68.596574米\n",
    "od_dis_table.to_csv(filepath+r'od_dis_table.csv',index = None)\n",
    "\n",
    "\n",
    "od_length = od_dis_table.groupby(['station_id_x','station_id_y'])['cumsumlength'].max().rename('length').reset_index()\n",
    "od_length.to_csv(filepath+r'od_length.csv',index = None)"
   ]
  },
  {
   "cell_type": "code",
   "execution_count": null,
   "metadata": {},
   "outputs": [],
   "source": [
    "highway_station = pd.merge(highway_station,station2node,left_on = 'id',right_on = 'station_id')"
   ]
  },
  {
   "cell_type": "code",
   "execution_count": null,
   "metadata": {},
   "outputs": [
    {
     "data": {
      "text/plain": [
       "(None, None)"
      ]
     },
     "execution_count": 22,
     "metadata": {},
     "output_type": "execute_result"
    }
   ],
   "source": [
    "# find the nearest charge node\n",
    "def get_nearest_charge_station(G,node_id, radius = 1000):\n",
    "    # create subgraph\n",
    "    subgraph = nx.ego_graph (G, node_id, radius=radius,distance = 'weight')\n",
    "    distances = []\n",
    "    stationid = None\n",
    "    stationdistance = None\n",
    "    for node in subgraph.nodes() :\n",
    "        if (node in list(highway_station ['node_id'])):# if it is charge station\n",
    "            distance = nx.shortest_path_length(subgraph,source=node_id, target=node,weight='weight')\n",
    "            distances.append ( [node, distance])\n",
    "    distances = pd.DataFrame (distances, columns=['stationid', 'distance']) .sort_values (by='distance')\n",
    "    # if there is a charge staion\n",
    "    if len (distances)>0:\n",
    "        stationid = int (distances ['stationid'].iloc [0])\n",
    "        stationdistance = int (distances ['distance'].iloc[0])\n",
    "    return stationid, stationdistance\n",
    "stationid,stationdistance = get_nearest_charge_station(G,0, radius = 1000)\n",
    "stationid,stationdistance"
   ]
  },
  {
   "cell_type": "code",
   "execution_count": null,
   "metadata": {},
   "outputs": [
    {
     "data": {
      "application/vnd.jupyter.widget-view+json": {
       "model_id": "e441fe1496b04b6e8f195f8651f0b88d",
       "version_major": 2,
       "version_minor": 0
      },
      "text/plain": [
       "VBox(children=(HBox(children=(IntProgress(value=0, description='0.00%', max=2142), Label(value='0 / 2142'))), …"
      ]
     },
     "metadata": {},
     "output_type": "display_data"
    }
   ],
   "source": [
    "# find the nearest charge node\n",
    "G_nodes_df = pd. DataFrame (G_nodes,columns = ['node_id'])\n",
    "a = G_nodes_df['node_id'].parallel_apply(lambda node_id:get_nearest_charge_station(G,node_id,radius = 1000))\n",
    "G_nodes_df['charge_node_id'] = a.apply(lambda r:r [0])\n",
    "G_nodes_df['charge_node_distance'] = a.apply (lambda r:r [1])"
   ]
  },
  {
   "cell_type": "code",
   "execution_count": null,
   "metadata": {},
   "outputs": [],
   "source": [
    "edge_to_charge = pd.merge(edge[['edge_id', 'v']].rename(columns={'v': 'node_id'}),\n",
    "                          G_nodes_df)[['edge_id', 'charge_node_id', 'charge_node_distance']]\n",
    "edge_to_charge = pd.merge(edge_to_charge,\n",
    "                          highway_station[['场站名称', '充电车位数', \"node_id\"]].rename(\n",
    "                              columns={'node_id': 'charge_node_id'})).sort_values(by='edge_id')\n",
    "edge_to_charge.to_csv(filepath+r'edge_to_charge.csv',index = None)\n"
   ]
  },
  {
   "cell_type": "code",
   "execution_count": null,
   "metadata": {},
   "outputs": [
    {
     "ename": "OSError",
     "evalue": "Cannot save file into a non-existent directory: 'input'",
     "output_type": "error",
     "traceback": [
      "\u001b[0;31m---------------------------------------------------------------------------\u001b[0m",
      "\u001b[0;31mOSError\u001b[0m                                   Traceback (most recent call last)",
      "\u001b[1;32m/Users/yuqing/Desktop/华为-电动汽车/4-生成小路网.ipynb 单元格 24\u001b[0m line \u001b[0;36m<cell line: 15>\u001b[0;34m()\u001b[0m\n\u001b[1;32m     <a href='vscode-notebook-cell:/Users/yuqing/Desktop/%E5%8D%8E%E4%B8%BA-%E7%94%B5%E5%8A%A8%E6%B1%BD%E8%BD%A6/4-%E7%94%9F%E6%88%90%E5%B0%8F%E8%B7%AF%E7%BD%91.ipynb#X36sZmlsZQ%3D%3D?line=11'>12</a>\u001b[0m od_merge_table[\u001b[39m'\u001b[39m\u001b[39mcumsumlength2\u001b[39m\u001b[39m'\u001b[39m] \u001b[39m=\u001b[39m od_merge_table[\u001b[39m'\u001b[39m\u001b[39mcumsumlength\u001b[39m\u001b[39m'\u001b[39m]\n\u001b[1;32m     <a href='vscode-notebook-cell:/Users/yuqing/Desktop/%E5%8D%8E%E4%B8%BA-%E7%94%B5%E5%8A%A8%E6%B1%BD%E8%BD%A6/4-%E7%94%9F%E6%88%90%E5%B0%8F%E8%B7%AF%E7%BD%91.ipynb#X36sZmlsZQ%3D%3D?line=13'>14</a>\u001b[0m od_merge_table[\u001b[39m'\u001b[39m\u001b[39mcumsumlength\u001b[39m\u001b[39m'\u001b[39m] \u001b[39m=\u001b[39m od_merge_table[\u001b[39m'\u001b[39m\u001b[39mcumsumlength\u001b[39m\u001b[39m'\u001b[39m]\u001b[39m.\u001b[39mapply(calculate_differences)\n\u001b[0;32m---> <a href='vscode-notebook-cell:/Users/yuqing/Desktop/%E5%8D%8E%E4%B8%BA-%E7%94%B5%E5%8A%A8%E6%B1%BD%E8%BD%A6/4-%E7%94%9F%E6%88%90%E5%B0%8F%E8%B7%AF%E7%BD%91.ipynb#X36sZmlsZQ%3D%3D?line=14'>15</a>\u001b[0m od_merge_table\u001b[39m.\u001b[39;49mto_csv(\u001b[39m'\u001b[39;49m\u001b[39minput/new_od_dis.csv\u001b[39;49m\u001b[39m'\u001b[39;49m)\n",
      "File \u001b[0;32m~/miniforge3/envs/py38_native/lib/python3.8/site-packages/pandas/core/generic.py:3551\u001b[0m, in \u001b[0;36mNDFrame.to_csv\u001b[0;34m(self, path_or_buf, sep, na_rep, float_format, columns, header, index, index_label, mode, encoding, compression, quoting, quotechar, line_terminator, chunksize, date_format, doublequote, escapechar, decimal, errors, storage_options)\u001b[0m\n\u001b[1;32m   3540\u001b[0m df \u001b[39m=\u001b[39m \u001b[39mself\u001b[39m \u001b[39mif\u001b[39;00m \u001b[39misinstance\u001b[39m(\u001b[39mself\u001b[39m, ABCDataFrame) \u001b[39melse\u001b[39;00m \u001b[39mself\u001b[39m\u001b[39m.\u001b[39mto_frame()\n\u001b[1;32m   3542\u001b[0m formatter \u001b[39m=\u001b[39m DataFrameFormatter(\n\u001b[1;32m   3543\u001b[0m     frame\u001b[39m=\u001b[39mdf,\n\u001b[1;32m   3544\u001b[0m     header\u001b[39m=\u001b[39mheader,\n\u001b[0;32m   (...)\u001b[0m\n\u001b[1;32m   3548\u001b[0m     decimal\u001b[39m=\u001b[39mdecimal,\n\u001b[1;32m   3549\u001b[0m )\n\u001b[0;32m-> 3551\u001b[0m \u001b[39mreturn\u001b[39;00m DataFrameRenderer(formatter)\u001b[39m.\u001b[39;49mto_csv(\n\u001b[1;32m   3552\u001b[0m     path_or_buf,\n\u001b[1;32m   3553\u001b[0m     line_terminator\u001b[39m=\u001b[39;49mline_terminator,\n\u001b[1;32m   3554\u001b[0m     sep\u001b[39m=\u001b[39;49msep,\n\u001b[1;32m   3555\u001b[0m     encoding\u001b[39m=\u001b[39;49mencoding,\n\u001b[1;32m   3556\u001b[0m     errors\u001b[39m=\u001b[39;49merrors,\n\u001b[1;32m   3557\u001b[0m     compression\u001b[39m=\u001b[39;49mcompression,\n\u001b[1;32m   3558\u001b[0m     quoting\u001b[39m=\u001b[39;49mquoting,\n\u001b[1;32m   3559\u001b[0m     columns\u001b[39m=\u001b[39;49mcolumns,\n\u001b[1;32m   3560\u001b[0m     index_label\u001b[39m=\u001b[39;49mindex_label,\n\u001b[1;32m   3561\u001b[0m     mode\u001b[39m=\u001b[39;49mmode,\n\u001b[1;32m   3562\u001b[0m     chunksize\u001b[39m=\u001b[39;49mchunksize,\n\u001b[1;32m   3563\u001b[0m     quotechar\u001b[39m=\u001b[39;49mquotechar,\n\u001b[1;32m   3564\u001b[0m     date_format\u001b[39m=\u001b[39;49mdate_format,\n\u001b[1;32m   3565\u001b[0m     doublequote\u001b[39m=\u001b[39;49mdoublequote,\n\u001b[1;32m   3566\u001b[0m     escapechar\u001b[39m=\u001b[39;49mescapechar,\n\u001b[1;32m   3567\u001b[0m     storage_options\u001b[39m=\u001b[39;49mstorage_options,\n\u001b[1;32m   3568\u001b[0m )\n",
      "File \u001b[0;32m~/miniforge3/envs/py38_native/lib/python3.8/site-packages/pandas/io/formats/format.py:1180\u001b[0m, in \u001b[0;36mDataFrameRenderer.to_csv\u001b[0;34m(self, path_or_buf, encoding, sep, columns, index_label, mode, compression, quoting, quotechar, line_terminator, chunksize, date_format, doublequote, escapechar, errors, storage_options)\u001b[0m\n\u001b[1;32m   1159\u001b[0m     created_buffer \u001b[39m=\u001b[39m \u001b[39mFalse\u001b[39;00m\n\u001b[1;32m   1161\u001b[0m csv_formatter \u001b[39m=\u001b[39m CSVFormatter(\n\u001b[1;32m   1162\u001b[0m     path_or_buf\u001b[39m=\u001b[39mpath_or_buf,\n\u001b[1;32m   1163\u001b[0m     line_terminator\u001b[39m=\u001b[39mline_terminator,\n\u001b[0;32m   (...)\u001b[0m\n\u001b[1;32m   1178\u001b[0m     formatter\u001b[39m=\u001b[39m\u001b[39mself\u001b[39m\u001b[39m.\u001b[39mfmt,\n\u001b[1;32m   1179\u001b[0m )\n\u001b[0;32m-> 1180\u001b[0m csv_formatter\u001b[39m.\u001b[39;49msave()\n\u001b[1;32m   1182\u001b[0m \u001b[39mif\u001b[39;00m created_buffer:\n\u001b[1;32m   1183\u001b[0m     \u001b[39massert\u001b[39;00m \u001b[39misinstance\u001b[39m(path_or_buf, StringIO)\n",
      "File \u001b[0;32m~/miniforge3/envs/py38_native/lib/python3.8/site-packages/pandas/io/formats/csvs.py:241\u001b[0m, in \u001b[0;36mCSVFormatter.save\u001b[0;34m(self)\u001b[0m\n\u001b[1;32m    237\u001b[0m \u001b[39m\"\"\"\u001b[39;00m\n\u001b[1;32m    238\u001b[0m \u001b[39mCreate the writer & save.\u001b[39;00m\n\u001b[1;32m    239\u001b[0m \u001b[39m\"\"\"\u001b[39;00m\n\u001b[1;32m    240\u001b[0m \u001b[39m# apply compression and byte/text conversion\u001b[39;00m\n\u001b[0;32m--> 241\u001b[0m \u001b[39mwith\u001b[39;00m get_handle(\n\u001b[1;32m    242\u001b[0m     \u001b[39mself\u001b[39;49m\u001b[39m.\u001b[39;49mfilepath_or_buffer,\n\u001b[1;32m    243\u001b[0m     \u001b[39mself\u001b[39;49m\u001b[39m.\u001b[39;49mmode,\n\u001b[1;32m    244\u001b[0m     encoding\u001b[39m=\u001b[39;49m\u001b[39mself\u001b[39;49m\u001b[39m.\u001b[39;49mencoding,\n\u001b[1;32m    245\u001b[0m     errors\u001b[39m=\u001b[39;49m\u001b[39mself\u001b[39;49m\u001b[39m.\u001b[39;49merrors,\n\u001b[1;32m    246\u001b[0m     compression\u001b[39m=\u001b[39;49m\u001b[39mself\u001b[39;49m\u001b[39m.\u001b[39;49mcompression,\n\u001b[1;32m    247\u001b[0m     storage_options\u001b[39m=\u001b[39;49m\u001b[39mself\u001b[39;49m\u001b[39m.\u001b[39;49mstorage_options,\n\u001b[1;32m    248\u001b[0m ) \u001b[39mas\u001b[39;00m handles:\n\u001b[1;32m    249\u001b[0m \n\u001b[1;32m    250\u001b[0m     \u001b[39m# Note: self.encoding is irrelevant here\u001b[39;00m\n\u001b[1;32m    251\u001b[0m     \u001b[39mself\u001b[39m\u001b[39m.\u001b[39mwriter \u001b[39m=\u001b[39m csvlib\u001b[39m.\u001b[39mwriter(\n\u001b[1;32m    252\u001b[0m         handles\u001b[39m.\u001b[39mhandle,\n\u001b[1;32m    253\u001b[0m         lineterminator\u001b[39m=\u001b[39m\u001b[39mself\u001b[39m\u001b[39m.\u001b[39mline_terminator,\n\u001b[0;32m   (...)\u001b[0m\n\u001b[1;32m    258\u001b[0m         quotechar\u001b[39m=\u001b[39m\u001b[39mself\u001b[39m\u001b[39m.\u001b[39mquotechar,\n\u001b[1;32m    259\u001b[0m     )\n\u001b[1;32m    261\u001b[0m     \u001b[39mself\u001b[39m\u001b[39m.\u001b[39m_save()\n",
      "File \u001b[0;32m~/miniforge3/envs/py38_native/lib/python3.8/site-packages/pandas/io/common.py:694\u001b[0m, in \u001b[0;36mget_handle\u001b[0;34m(path_or_buf, mode, encoding, compression, memory_map, is_text, errors, storage_options)\u001b[0m\n\u001b[1;32m    692\u001b[0m \u001b[39m# Only for write methods\u001b[39;00m\n\u001b[1;32m    693\u001b[0m \u001b[39mif\u001b[39;00m \u001b[39m\"\u001b[39m\u001b[39mr\u001b[39m\u001b[39m\"\u001b[39m \u001b[39mnot\u001b[39;00m \u001b[39min\u001b[39;00m mode \u001b[39mand\u001b[39;00m is_path:\n\u001b[0;32m--> 694\u001b[0m     check_parent_directory(\u001b[39mstr\u001b[39;49m(handle))\n\u001b[1;32m    696\u001b[0m \u001b[39mif\u001b[39;00m compression:\n\u001b[1;32m    697\u001b[0m     \u001b[39mif\u001b[39;00m compression \u001b[39m!=\u001b[39m \u001b[39m\"\u001b[39m\u001b[39mzstd\u001b[39m\u001b[39m\"\u001b[39m:\n\u001b[1;32m    698\u001b[0m         \u001b[39m# compression libraries do not like an explicit text-mode\u001b[39;00m\n",
      "File \u001b[0;32m~/miniforge3/envs/py38_native/lib/python3.8/site-packages/pandas/io/common.py:568\u001b[0m, in \u001b[0;36mcheck_parent_directory\u001b[0;34m(path)\u001b[0m\n\u001b[1;32m    566\u001b[0m parent \u001b[39m=\u001b[39m Path(path)\u001b[39m.\u001b[39mparent\n\u001b[1;32m    567\u001b[0m \u001b[39mif\u001b[39;00m \u001b[39mnot\u001b[39;00m parent\u001b[39m.\u001b[39mis_dir():\n\u001b[0;32m--> 568\u001b[0m     \u001b[39mraise\u001b[39;00m \u001b[39mOSError\u001b[39;00m(\u001b[39mrf\u001b[39m\u001b[39m\"\u001b[39m\u001b[39mCannot save file into a non-existent directory: \u001b[39m\u001b[39m'\u001b[39m\u001b[39m{\u001b[39;00mparent\u001b[39m}\u001b[39;00m\u001b[39m'\u001b[39m\u001b[39m\"\u001b[39m)\n",
      "\u001b[0;31mOSError\u001b[0m: Cannot save file into a non-existent directory: 'input'"
     ]
    }
   ],
   "source": [
    "import pandas as pd\n",
    "od_dis_table = pd.read_csv(filepath+r'od_dis_table.csv')\n",
    "\n",
    "# 合并列表\n",
    "od_merge_table = od_dis_table.groupby(['station_id_x', 'station_id_y']).agg(\n",
    "    {'edge_id': list, 'cumsumlength': list}).reset_index()\n",
    "# od_merge_table.to_csv('input/od_merged_table.csv')\n",
    "# cumsumlength处理\n",
    "def calculate_differences(lst):\n",
    "    differences = [lst[i] - lst[i - 1] for i in range(1, len(lst))]\n",
    "    return [lst[0]] + differences\n",
    "od_merge_table['cumsumlength2'] = od_merge_table['cumsumlength']\n",
    "\n",
    "od_merge_table['cumsumlength'] = od_merge_table['cumsumlength'].apply(calculate_differences)\n",
    "od_merge_table.to_csv('abm/input/new_od_dis.csv') "
   ]
  }
 ],
 "metadata": {
  "kernelspec": {
   "display_name": "py38_native",
   "language": "python",
   "name": "python3"
  },
  "language_info": {
   "codemirror_mode": {
    "name": "ipython",
    "version": 3
   },
   "file_extension": ".py",
   "mimetype": "text/x-python",
   "name": "python",
   "nbconvert_exporter": "python",
   "pygments_lexer": "ipython3",
   "version": "3.8.13"
  },
  "orig_nbformat": 4
 },
 "nbformat": 4,
 "nbformat_minor": 2
}
